{
 "cells": [
  {
   "cell_type": "code",
   "execution_count": 24,
   "metadata": {},
   "outputs": [],
   "source": [
    "import re\n",
    "import unicodedata\n",
    "import pandas as pd\n",
    "import nltk\n",
    "%matplotlib inline\n",
    "import matplotlib.pyplot as plt\n",
    "import seaborn as sns\n",
    "from wordcloud import WordCloud\n",
    "import acquire\n",
    "import prepare\n",
    "import nltk.sentiment"
   ]
  },
  {
   "cell_type": "markdown",
   "metadata": {},
   "source": [
    "### Load the spam data set."
   ]
  },
  {
   "cell_type": "code",
   "execution_count": 25,
   "metadata": {},
   "outputs": [
    {
     "data": {
      "text/html": [
       "<div>\n",
       "<style scoped>\n",
       "    .dataframe tbody tr th:only-of-type {\n",
       "        vertical-align: middle;\n",
       "    }\n",
       "\n",
       "    .dataframe tbody tr th {\n",
       "        vertical-align: top;\n",
       "    }\n",
       "\n",
       "    .dataframe thead th {\n",
       "        text-align: right;\n",
       "    }\n",
       "</style>\n",
       "<table border=\"1\" class=\"dataframe\">\n",
       "  <thead>\n",
       "    <tr style=\"text-align: right;\">\n",
       "      <th></th>\n",
       "      <th>label</th>\n",
       "      <th>text</th>\n",
       "    </tr>\n",
       "  </thead>\n",
       "  <tbody>\n",
       "    <tr>\n",
       "      <th>0</th>\n",
       "      <td>ham</td>\n",
       "      <td>Go until jurong point, crazy.. Available only ...</td>\n",
       "    </tr>\n",
       "    <tr>\n",
       "      <th>1</th>\n",
       "      <td>ham</td>\n",
       "      <td>Ok lar... Joking wif u oni...</td>\n",
       "    </tr>\n",
       "    <tr>\n",
       "      <th>2</th>\n",
       "      <td>spam</td>\n",
       "      <td>Free entry in 2 a wkly comp to win FA Cup fina...</td>\n",
       "    </tr>\n",
       "    <tr>\n",
       "      <th>3</th>\n",
       "      <td>ham</td>\n",
       "      <td>U dun say so early hor... U c already then say...</td>\n",
       "    </tr>\n",
       "    <tr>\n",
       "      <th>4</th>\n",
       "      <td>ham</td>\n",
       "      <td>Nah I don't think he goes to usf, he lives aro...</td>\n",
       "    </tr>\n",
       "  </tbody>\n",
       "</table>\n",
       "</div>"
      ],
      "text/plain": [
       "  label                                               text\n",
       "0   ham  Go until jurong point, crazy.. Available only ...\n",
       "1   ham                      Ok lar... Joking wif u oni...\n",
       "2  spam  Free entry in 2 a wkly comp to win FA Cup fina...\n",
       "3   ham  U dun say so early hor... U c already then say...\n",
       "4   ham  Nah I don't think he goes to usf, he lives aro..."
      ]
     },
     "execution_count": 25,
     "metadata": {},
     "output_type": "execute_result"
    }
   ],
   "source": [
    "df = pd.read_csv('spam_clean.csv')\n",
    "df.head()"
   ]
  },
  {
   "cell_type": "code",
   "execution_count": 26,
   "metadata": {},
   "outputs": [
    {
     "data": {
      "text/plain": [
       "ham     4825\n",
       "spam     747\n",
       "Name: label, dtype: int64"
      ]
     },
     "execution_count": 26,
     "metadata": {},
     "output_type": "execute_result"
    }
   ],
   "source": [
    "df.label.value_counts()"
   ]
  },
  {
   "cell_type": "code",
   "execution_count": 27,
   "metadata": {},
   "outputs": [
    {
     "data": {
      "text/plain": [
       "ham     0.865937\n",
       "spam    0.134063\n",
       "Name: label, dtype: float64"
      ]
     },
     "execution_count": 27,
     "metadata": {},
     "output_type": "execute_result"
    }
   ],
   "source": [
    "df.label.value_counts(normalize = True)"
   ]
  },
  {
   "cell_type": "code",
   "execution_count": 28,
   "metadata": {},
   "outputs": [
    {
     "data": {
      "text/html": [
       "<div>\n",
       "<style scoped>\n",
       "    .dataframe tbody tr th:only-of-type {\n",
       "        vertical-align: middle;\n",
       "    }\n",
       "\n",
       "    .dataframe tbody tr th {\n",
       "        vertical-align: top;\n",
       "    }\n",
       "\n",
       "    .dataframe thead th {\n",
       "        text-align: right;\n",
       "    }\n",
       "</style>\n",
       "<table border=\"1\" class=\"dataframe\">\n",
       "  <thead>\n",
       "    <tr style=\"text-align: right;\">\n",
       "      <th></th>\n",
       "      <th>n</th>\n",
       "      <th>percent</th>\n",
       "    </tr>\n",
       "  </thead>\n",
       "  <tbody>\n",
       "    <tr>\n",
       "      <th>ham</th>\n",
       "      <td>4825</td>\n",
       "      <td>0.865937</td>\n",
       "    </tr>\n",
       "    <tr>\n",
       "      <th>spam</th>\n",
       "      <td>747</td>\n",
       "      <td>0.134063</td>\n",
       "    </tr>\n",
       "  </tbody>\n",
       "</table>\n",
       "</div>"
      ],
      "text/plain": [
       "         n   percent\n",
       "ham   4825  0.865937\n",
       "spam   747  0.134063"
      ]
     },
     "execution_count": 28,
     "metadata": {},
     "output_type": "execute_result"
    }
   ],
   "source": [
    "labels = pd.concat([df.label.value_counts(),\n",
    "                    df.label.value_counts(normalize=True)], axis=1)\n",
    "labels.columns = ['n', 'percent']\n",
    "labels"
   ]
  },
  {
   "cell_type": "code",
   "execution_count": 29,
   "metadata": {},
   "outputs": [],
   "source": [
    "ADDITIONAL_STOPWORDS = ['r', 'u', '2', 'ltgt']\n",
    "def clean(text):\n",
    "    'A simple function to cleanup text data'\n",
    "    wnl = nltk.stem.WordNetLemmatizer()\n",
    "    stopwords = nltk.corpus.stopwords.words('english') + ADDITIONAL_STOPWORDS\n",
    "    text = (unicodedata.normalize('NFKD', text)\n",
    "             .encode('ascii', 'ignore')\n",
    "             .decode('utf-8', 'ignore')\n",
    "             .lower())\n",
    "    words = re.sub(r'[^\\w\\s]', '', text).split()\n",
    "    return [wnl.lemmatize(word) for word in words if word not in stopwords]"
   ]
  },
  {
   "cell_type": "code",
   "execution_count": 30,
   "metadata": {
    "scrolled": true
   },
   "outputs": [
    {
     "data": {
      "text/plain": [
       "0       Go until jurong point, crazy.. Available only ...\n",
       "1                           Ok lar... Joking wif u oni...\n",
       "3       U dun say so early hor... U c already then say...\n",
       "4       Nah I don't think he goes to usf, he lives aro...\n",
       "6       Even my brother is not like to speak with me. ...\n",
       "                              ...                        \n",
       "5565                                         Huh y lei...\n",
       "5568                Will Ì_ b going to esplanade fr home?\n",
       "5569    Pity, * was in mood for that. So...any other s...\n",
       "5570    The guy did some bitching but I acted like i'd...\n",
       "5571                           Rofl. Its true to its name\n",
       "Name: text, Length: 4825, dtype: object"
      ]
     },
     "execution_count": 30,
     "metadata": {},
     "output_type": "execute_result"
    }
   ],
   "source": [
    "df[df.label == 'ham'].text"
   ]
  },
  {
   "cell_type": "code",
   "execution_count": 35,
   "metadata": {},
   "outputs": [],
   "source": [
    "ham_words = clean(' '.join(df[df.label == 'ham'].text))\n",
    "spam_words = clean(' '.join(df[df.label == 'spam'].text))"
   ]
  },
  {
   "cell_type": "code",
   "execution_count": 39,
   "metadata": {},
   "outputs": [],
   "source": [
    "ham_freq = pd.Series(ham_words).value_counts()\n",
    "spam_freq = pd.Series(ham_words).value_counts()"
   ]
  },
  {
   "cell_type": "code",
   "execution_count": 40,
   "metadata": {},
   "outputs": [],
   "source": [
    "spam_bigrams = pd.Series(nltk.ngrams(spam_words, 2))\n",
    "ham_bigrams = pd.Series(nltk.ngrams(ham_words, 2))"
   ]
  },
  {
   "cell_type": "code",
   "execution_count": 41,
   "metadata": {},
   "outputs": [
    {
     "data": {
      "text/plain": [
       "(please, call)         44\n",
       "(customer, service)    27\n",
       "(po, box)              24\n",
       "(a1000, cash)          23\n",
       "(guaranteed, call)     23\n",
       "                       ..\n",
       "(1000, gr8)             1\n",
       "(stop, private)         1\n",
       "(see, getting)          1\n",
       "(0870, chatlines)       1\n",
       "(premier, call)         1\n",
       "Length: 6886, dtype: int64"
      ]
     },
     "execution_count": 41,
     "metadata": {},
     "output_type": "execute_result"
    }
   ],
   "source": [
    "spam_bigrams.value_counts()"
   ]
  },
  {
   "cell_type": "code",
   "execution_count": 42,
   "metadata": {},
   "outputs": [
    {
     "data": {
      "text/plain": [
       "(call, later)        52\n",
       "(ill, call)          48\n",
       "(let, know)          42\n",
       "(sorry, ill)         39\n",
       "(dont, know)         32\n",
       "                     ..\n",
       "(go, kill)            1\n",
       "(get, seperatedo)     1\n",
       "(1st, salary)         1\n",
       "(going, e)            1\n",
       "(e, second)           1\n",
       "Length: 30869, dtype: int64"
      ]
     },
     "execution_count": 42,
     "metadata": {},
     "output_type": "execute_result"
    }
   ],
   "source": [
    "ham_bigrams.value_counts()"
   ]
  },
  {
   "cell_type": "code",
   "execution_count": 44,
   "metadata": {},
   "outputs": [],
   "source": [
    "top20_spam_bigrams = spam_bigrams.value_counts().head(20)\n",
    "top20_ham_bigrams = ham_bigrams.value_counts().head(20)"
   ]
  },
  {
   "cell_type": "code",
   "execution_count": 45,
   "metadata": {},
   "outputs": [
    {
     "data": {
      "text/plain": [
       "(-0.5, 799.5, 399.5, -0.5)"
      ]
     },
     "execution_count": 45,
     "metadata": {},
     "output_type": "execute_result"
    },
    {
     "data": {
      "image/png": "[encoded data removed]",
      "text/plain": [
       "<Figure size 576x288 with 1 Axes>"
      ]
     },
     "metadata": {
      "needs_background": "light"
     },
     "output_type": "display_data"
    }
   ],
   "source": [
    "data = {k[0] + ' ' + k[1]: v for k, v in top20_spam_bigrams.to_dict().items()}\n",
    "img = WordCloud(background_color='white', width=800, height=400).generate_from_frequencies(data)\n",
    "plt.figure(figsize=(8, 4))\n",
    "plt.imshow(img)\n",
    "plt.axis('off')"
   ]
  },
  {
   "cell_type": "code",
   "execution_count": 46,
   "metadata": {},
   "outputs": [
    {
     "data": {
      "text/plain": [
       "(-0.5, 799.5, 399.5, -0.5)"
      ]
     },
     "execution_count": 46,
     "metadata": {},
     "output_type": "execute_result"
    },
    {
     "data": {
      "image/png": "[encoded data removed]",
      "text/plain": [
       "<Figure size 576x288 with 1 Axes>"
      ]
     },
     "metadata": {
      "needs_background": "light"
     },
     "output_type": "display_data"
    }
   ],
   "source": [
    "data = {k[0] + ' ' + k[1]: v for k, v in top20_ham_bigrams.to_dict().items()}\n",
    "img = WordCloud(background_color='white', width=800, height=400).generate_from_frequencies(data)\n",
    "plt.figure(figsize=(8, 4))\n",
    "plt.imshow(img)\n",
    "plt.axis('off')"
   ]
  },
  {
   "cell_type": "markdown",
   "metadata": {},
   "source": [
    "### Is there any overlap in the bigrams for the spam data and the ham data?"
   ]
  },
  {
   "cell_type": "code",
   "execution_count": 47,
   "metadata": {
    "scrolled": true
   },
   "outputs": [
    {
     "data": {
      "text/plain": [
       "{('26th', 'july'),\n",
       " ('3', 'hour'),\n",
       " ('3', 'week'),\n",
       " ('4', '1'),\n",
       " ('4', 'free'),\n",
       " ('4', 'next'),\n",
       " ('4', 'ur'),\n",
       " ('anyone', 'going'),\n",
       " ('babe', 'im'),\n",
       " ('babe', 'make'),\n",
       " ('baby', 'im'),\n",
       " ('back', 'id'),\n",
       " ('back', 'work'),\n",
       " ('bill', '3'),\n",
       " ('brand', 'new'),\n",
       " ('call', '4'),\n",
       " ('call', 'back'),\n",
       " ('call', 'call'),\n",
       " ('call', 'cost'),\n",
       " ('call', 'free'),\n",
       " ('call', 'landline'),\n",
       " ('call', 'text'),\n",
       " ('called', 'left'),\n",
       " ('cant', 'get'),\n",
       " ('chat', 'dont'),\n",
       " ('come', 'take'),\n",
       " ('could', 'meet'),\n",
       " ('couple', 'day'),\n",
       " ('customer', 'service'),\n",
       " ('day', 'fri'),\n",
       " ('day', 'get'),\n",
       " ('day', 'give'),\n",
       " ('day', 'send'),\n",
       " ('day', 'today'),\n",
       " ('dont', 'forget'),\n",
       " ('dont', 'know'),\n",
       " ('dont', 'like'),\n",
       " ('dont', 'miss'),\n",
       " ('dont', 'tell'),\n",
       " ('enjoy', 'one'),\n",
       " ('every', 'week'),\n",
       " ('fall', 'love'),\n",
       " ('first', 'time'),\n",
       " ('free', 'call'),\n",
       " ('free', 'message'),\n",
       " ('free', 'next'),\n",
       " ('game', 'send'),\n",
       " ('get', '3'),\n",
       " ('get', 'free'),\n",
       " ('get', 'phone'),\n",
       " ('get', 'ur'),\n",
       " ('girl', 'waiting'),\n",
       " ('give', 'u'),\n",
       " ('go', 'another'),\n",
       " ('go', 'back'),\n",
       " ('go', 'txt'),\n",
       " ('good', 'friend'),\n",
       " ('got', 'new'),\n",
       " ('great', 'new'),\n",
       " ('great', 'weekend'),\n",
       " ('hey', 'got'),\n",
       " ('hey', 'im'),\n",
       " ('hey', 'really'),\n",
       " ('hi', 'babe'),\n",
       " ('hi', 'baby'),\n",
       " ('hi', 'im'),\n",
       " ('hi', 'ya'),\n",
       " ('hope', 'enjoyed'),\n",
       " ('hope', 'like'),\n",
       " ('hot', 'sticky'),\n",
       " ('id', 'like'),\n",
       " ('ill', 'send'),\n",
       " ('im', 'bored'),\n",
       " ('im', 'glad'),\n",
       " ('im', 'home'),\n",
       " ('im', 'hot'),\n",
       " ('im', 'waiting'),\n",
       " ('ive', 'found'),\n",
       " ('keep', 'ur'),\n",
       " ('know', 'someone'),\n",
       " ('last', 'time'),\n",
       " ('last', 'week'),\n",
       " ('left', 'message'),\n",
       " ('let', 'send'),\n",
       " ('like', 'fun'),\n",
       " ('like', 'keep'),\n",
       " ('like', 'see'),\n",
       " ('link', 'sent'),\n",
       " ('little', 'time'),\n",
       " ('live', 'call'),\n",
       " ('live', 'im'),\n",
       " ('look', 'like'),\n",
       " ('love', 'life'),\n",
       " ('maybe', 'even'),\n",
       " ('message', 'call'),\n",
       " ('message', 'right'),\n",
       " ('missed', 'call'),\n",
       " ('mobile', 'number'),\n",
       " ('movie', 'collect'),\n",
       " ('mp3', 'player'),\n",
       " ('msg', 'dont'),\n",
       " ('msg', 'reply'),\n",
       " ('much', 'fun'),\n",
       " ('need', 'help'),\n",
       " ('new', 'mobile'),\n",
       " ('new', 'year'),\n",
       " ('next', 'month'),\n",
       " ('next', 'week'),\n",
       " ('next', 'year'),\n",
       " ('night', 'ur'),\n",
       " ('nokia', 'phone'),\n",
       " ('number', 'im'),\n",
       " ('oh', 'god'),\n",
       " ('ok', 'mobile'),\n",
       " ('one', 'know'),\n",
       " ('one', 'like'),\n",
       " ('phone', 'number'),\n",
       " ('phone', 'send'),\n",
       " ('please', 'call'),\n",
       " ('please', 'go'),\n",
       " ('please', 'leave'),\n",
       " ('pls', 'call'),\n",
       " ('pls', 'reply'),\n",
       " ('po', 'box'),\n",
       " ('reference', 'number'),\n",
       " ('reply', 'free'),\n",
       " ('reply', 'msg'),\n",
       " ('sat', 'night'),\n",
       " ('save', 'money'),\n",
       " ('see', 'getting'),\n",
       " ('send', 'free'),\n",
       " ('send', 'pic'),\n",
       " ('send', 'stop'),\n",
       " ('sent', 'also'),\n",
       " ('sent', 'text'),\n",
       " ('sent', 'ur'),\n",
       " ('service', 'get'),\n",
       " ('sim', 'card'),\n",
       " ('someone', 'else'),\n",
       " ('sorry', 'missed'),\n",
       " ('stay', 'night'),\n",
       " ('tell', 'call'),\n",
       " ('tell', 'look'),\n",
       " ('tell', 'ur'),\n",
       " ('term', 'condition'),\n",
       " ('text', 'back'),\n",
       " ('text', 'find'),\n",
       " ('text', 'get'),\n",
       " ('text', 'im'),\n",
       " ('text', 'meet'),\n",
       " ('text', 'word'),\n",
       " ('thanks', 'good'),\n",
       " ('thing', '4'),\n",
       " ('think', 'ur'),\n",
       " ('time', 'use'),\n",
       " ('today', 'ur'),\n",
       " ('tomorrow', 'ur'),\n",
       " ('tonight', 'want'),\n",
       " ('txt', 'back'),\n",
       " ('u', 'back'),\n",
       " ('unlimited', 'text'),\n",
       " ('ur', 'dream'),\n",
       " ('ur', 'fone'),\n",
       " ('ur', 'friend'),\n",
       " ('ur', 'lover'),\n",
       " ('ur', 'phone'),\n",
       " ('valentine', 'day'),\n",
       " ('wanna', 'chat'),\n",
       " ('wanna', 'cum'),\n",
       " ('wanna', 'get'),\n",
       " ('wanna', 'play'),\n",
       " ('want', 'dont'),\n",
       " ('want', 'get'),\n",
       " ('week', 'get'),\n",
       " ('week', 'new'),\n",
       " ('welcome', 'please'),\n",
       " ('well', 'done'),\n",
       " ('wish', 'get'),\n",
       " ('wk', 'get'),\n",
       " ('wont', 'believe'),\n",
       " ('would', 'like'),\n",
       " ('would', 'love'),\n",
       " ('year', 'eve'),\n",
       " ('year', 'old')}"
      ]
     },
     "execution_count": 47,
     "metadata": {},
     "output_type": "execute_result"
    }
   ],
   "source": [
    "set(spam_bigrams) & set(ham_bigrams)"
   ]
  },
  {
   "cell_type": "markdown",
   "metadata": {},
   "source": [
    "### Create and explore with trigrams (i.e. a n-gram with an n of 3) for both the spam and ham data."
   ]
  },
  {
   "cell_type": "code",
   "execution_count": 49,
   "metadata": {},
   "outputs": [],
   "source": [
    "spam_trigrams = pd.Series(nltk.ngrams(spam_words, 3))\n",
    "ham_trigrams = pd.Series(nltk.ngrams(ham_words, 3))"
   ]
  },
  {
   "cell_type": "code",
   "execution_count": 51,
   "metadata": {},
   "outputs": [
    {
     "data": {
      "text/plain": [
       "(prize, guaranteed, call)     21\n",
       "(call, customer, service)     15\n",
       "(reply, call, 08000930705)    14\n",
       "(land, line, claim)           14\n",
       "(private, 2003, account)      13\n",
       "(2003, account, statement)    13\n",
       "(show, 800, unredeemed)       12\n",
       "(camcorder, reply, call)      12\n",
       "(guaranteed, a1000, cash)     12\n",
       "(tone, 4, ur)                 11\n",
       "dtype: int64"
      ]
     },
     "execution_count": 51,
     "metadata": {},
     "output_type": "execute_result"
    }
   ],
   "source": [
    "top_20_spam_trigrams = spam_trigrams.value_counts().head(10)\n",
    "top_20_spam_trigrams"
   ]
  },
  {
   "cell_type": "code",
   "execution_count": 52,
   "metadata": {},
   "outputs": [
    {
     "data": {
      "text/plain": [
       "(ill, call, later)      42\n",
       "(sorry, ill, call)      38\n",
       "(happy, new, year)      19\n",
       "(pls, send, message)    13\n",
       "(cant, pick, phone)     12\n",
       "(right, pls, send)      12\n",
       "(pick, phone, right)    12\n",
       "(phone, right, pls)     12\n",
       "(hi, hi, hi)            11\n",
       "(x, x, x)                8\n",
       "dtype: int64"
      ]
     },
     "execution_count": 52,
     "metadata": {},
     "output_type": "execute_result"
    }
   ],
   "source": [
    "top_20_ham_trigrams = ham_trigrams.value_counts().head(10)\n",
    "top_20_ham_trigrams"
   ]
  },
  {
   "cell_type": "code",
   "execution_count": null,
   "metadata": {},
   "outputs": [],
   "source": []
  }
 ],
 "metadata": {
  "kernelspec": {
   "display_name": "Python 3",
   "language": "python",
   "name": "python3"
  },
  "language_info": {
   "codemirror_mode": {
    "name": "ipython",
    "version": 3
   },
   "file_extension": ".py",
   "mimetype": "text/x-python",
   "name": "python",
   "nbconvert_exporter": "python",
   "pygments_lexer": "ipython3",
   "version": "3.7.6"
  }
 },
 "nbformat": 4,
 "nbformat_minor": 4
}
