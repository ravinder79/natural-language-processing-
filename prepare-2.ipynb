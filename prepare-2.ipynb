{
 "cells": [
  {
   "cell_type": "code",
   "execution_count": 56,
   "metadata": {},
   "outputs": [
    {
     "name": "stderr",
     "output_type": "stream",
     "text": [
      "[nltk_data] Downloading package wordnet to\n",
      "[nltk_data]     /Users/ravindersingh/nltk_data...\n",
      "[nltk_data]   Package wordnet is already up-to-date!\n"
     ]
    },
    {
     "data": {
      "text/plain": [
       "True"
      ]
     },
     "execution_count": 56,
     "metadata": {},
     "output_type": "execute_result"
    }
   ],
   "source": [
    "import re\n",
    "import numpy as np\n",
    "import pandas as pd\n",
    "import acquire\n",
    "from bs4 import BeautifulSoup\n",
    "import os\n",
    "\n",
    "import unicodedata\n",
    "import re\n",
    "import json\n",
    "\n",
    "import nltk\n",
    "from nltk.tokenize.toktok import ToktokTokenizer\n",
    "from nltk.corpus import stopwords\n",
    "nltk.download('wordnet')"
   ]
  },
  {
   "cell_type": "markdown",
   "metadata": {},
   "source": [
    "### Define a function named basic_clean. It should take in a string and apply some basic text cleaning to it:\n",
    "\n",
    "Lowercase everything  \n",
    "Normalize unicode characters  \n",
    "Replace anything that is not a letter, number, whitespace or a single quote.  "
   ]
  },
  {
   "cell_type": "code",
   "execution_count": 15,
   "metadata": {},
   "outputs": [],
   "source": [
    "urls = ['https://inshorts.com/en/read/sports',\n",
    "'https://inshorts.com/en/read/business',\n",
    "'https://inshorts.com/en/read/technology',\n",
    "'https://inshorts.com/en/read/entertainment']"
   ]
  },
  {
   "cell_type": "code",
   "execution_count": 53,
   "metadata": {},
   "outputs": [
    {
     "name": "stderr",
     "output_type": "stream",
     "text": [
      "/Users/ravindersingh/codeup-data-science/natural-language-processing/acquire.py:32: UserWarning: No parser was explicitly specified, so I'm using the best available HTML parser for this system (\"lxml\"). This usually isn't a problem, but if you run this code on another system, or in a different virtual environment, it may use a different parser and behave differently.\n",
      "\n",
      "The code that caused this warning is on line 32 of the file /Users/ravindersingh/codeup-data-science/natural-language-processing/acquire.py. To get rid of this warning, pass the additional argument 'features=\"lxml\"' to the BeautifulSoup constructor.\n",
      "\n",
      "  soup = BeautifulSoup(response.text)\n"
     ]
    }
   ],
   "source": [
    "string = acquire.get_news_articles(urls)"
   ]
  },
  {
   "cell_type": "code",
   "execution_count": 57,
   "metadata": {},
   "outputs": [
    {
     "data": {
      "text/html": [
       "<div>\n",
       "<style scoped>\n",
       "    .dataframe tbody tr th:only-of-type {\n",
       "        vertical-align: middle;\n",
       "    }\n",
       "\n",
       "    .dataframe tbody tr th {\n",
       "        vertical-align: top;\n",
       "    }\n",
       "\n",
       "    .dataframe thead th {\n",
       "        text-align: right;\n",
       "    }\n",
       "</style>\n",
       "<table border=\"1\" class=\"dataframe\">\n",
       "  <thead>\n",
       "    <tr style=\"text-align: right;\">\n",
       "      <th></th>\n",
       "      <th>topic</th>\n",
       "      <th>title</th>\n",
       "      <th>content</th>\n",
       "    </tr>\n",
       "  </thead>\n",
       "  <tbody>\n",
       "    <tr>\n",
       "      <th>0</th>\n",
       "      <td>sports</td>\n",
       "      <td>CSK should buy Dhoni with right to match card ...</td>\n",
       "      <td>Former India cricketer Aakash Chopra said CSK ...</td>\n",
       "    </tr>\n",
       "    <tr>\n",
       "      <th>1</th>\n",
       "      <td>sports</td>\n",
       "      <td>That was the best comment I saw whole day: Aka...</td>\n",
       "      <td>Reacting to former England captain Michael Vau...</td>\n",
       "    </tr>\n",
       "    <tr>\n",
       "      <th>2</th>\n",
       "      <td>sports</td>\n",
       "      <td>Gabon football team forced to sleep on airport...</td>\n",
       "      <td>Arsenal forward Pierre-Emerick Aubameyang and ...</td>\n",
       "    </tr>\n",
       "    <tr>\n",
       "      <th>3</th>\n",
       "      <td>sports</td>\n",
       "      <td>Jos Buttler's 18-month-old daughter interrupts...</td>\n",
       "      <td>A video of England wicketkeeper-batsman Jos Bu...</td>\n",
       "    </tr>\n",
       "    <tr>\n",
       "      <th>4</th>\n",
       "      <td>sports</td>\n",
       "      <td>Suryakumar Yadav likes a meme trolling Virat K...</td>\n",
       "      <td>Mumbai Indians batsman Suryakumar Yadav liked ...</td>\n",
       "    </tr>\n",
       "    <tr>\n",
       "      <th>...</th>\n",
       "      <td>...</td>\n",
       "      <td>...</td>\n",
       "      <td>...</td>\n",
       "    </tr>\n",
       "    <tr>\n",
       "      <th>94</th>\n",
       "      <td>entertainment</td>\n",
       "      <td>Aditya made me feel comfortable on the sets of...</td>\n",
       "      <td>Speaking about her experience of working with ...</td>\n",
       "    </tr>\n",
       "    <tr>\n",
       "      <th>95</th>\n",
       "      <td>entertainment</td>\n",
       "      <td>Embassy of India in France pays tribute to Sou...</td>\n",
       "      <td>Embassy of India in France paid tribute to act...</td>\n",
       "    </tr>\n",
       "    <tr>\n",
       "      <th>96</th>\n",
       "      <td>entertainment</td>\n",
       "      <td>Aditya to start shooting for upcoming action f...</td>\n",
       "      <td>Actor Aditya Roy Kapur will start shooting for...</td>\n",
       "    </tr>\n",
       "    <tr>\n",
       "      <th>97</th>\n",
       "      <td>entertainment</td>\n",
       "      <td>Heroes can be larger than life, but emotions h...</td>\n",
       "      <td>Actor Suriya Sivakumar said he believes that I...</td>\n",
       "    </tr>\n",
       "    <tr>\n",
       "      <th>98</th>\n",
       "      <td>entertainment</td>\n",
       "      <td>I'm grateful for the honour: Sood on being nam...</td>\n",
       "      <td>Actor Sonu Sood, who has been appointed as the...</td>\n",
       "    </tr>\n",
       "  </tbody>\n",
       "</table>\n",
       "<p>99 rows × 3 columns</p>\n",
       "</div>"
      ],
      "text/plain": [
       "            topic                                              title  \\\n",
       "0          sports  CSK should buy Dhoni with right to match card ...   \n",
       "1          sports  That was the best comment I saw whole day: Aka...   \n",
       "2          sports  Gabon football team forced to sleep on airport...   \n",
       "3          sports  Jos Buttler's 18-month-old daughter interrupts...   \n",
       "4          sports  Suryakumar Yadav likes a meme trolling Virat K...   \n",
       "..            ...                                                ...   \n",
       "94  entertainment  Aditya made me feel comfortable on the sets of...   \n",
       "95  entertainment  Embassy of India in France pays tribute to Sou...   \n",
       "96  entertainment  Aditya to start shooting for upcoming action f...   \n",
       "97  entertainment  Heroes can be larger than life, but emotions h...   \n",
       "98  entertainment  I'm grateful for the honour: Sood on being nam...   \n",
       "\n",
       "                                              content  \n",
       "0   Former India cricketer Aakash Chopra said CSK ...  \n",
       "1   Reacting to former England captain Michael Vau...  \n",
       "2   Arsenal forward Pierre-Emerick Aubameyang and ...  \n",
       "3   A video of England wicketkeeper-batsman Jos Bu...  \n",
       "4   Mumbai Indians batsman Suryakumar Yadav liked ...  \n",
       "..                                                ...  \n",
       "94  Speaking about her experience of working with ...  \n",
       "95  Embassy of India in France paid tribute to act...  \n",
       "96  Actor Aditya Roy Kapur will start shooting for...  \n",
       "97  Actor Suriya Sivakumar said he believes that I...  \n",
       "98  Actor Sonu Sood, who has been appointed as the...  \n",
       "\n",
       "[99 rows x 3 columns]"
      ]
     },
     "execution_count": 57,
     "metadata": {},
     "output_type": "execute_result"
    }
   ],
   "source": [
    "# Create a DataFrame from list of dictionaries\n",
    "df = pd.DataFrame(string)\n",
    "df"
   ]
  },
  {
   "cell_type": "code",
   "execution_count": 17,
   "metadata": {},
   "outputs": [
    {
     "data": {
      "text/plain": [
       "{'topic': 'sports',\n",
       " 'title': \"Sachin's debut, last int'l innings were on same day 24 years apart\",\n",
       " 'content': \"Sachin Tendulkar made his international debut on November 15, 1989, and played his last innings in international cricket on the same date 24 years later in 2013. Sachin debuted against Pakistan in Karachi, aged 16 years 205 days, becoming the youngest Indian to play a Test. In his last innings, Sachin slammed 74(118) against West Indies at Mumbai's Wankhede Stadium.\"}"
      ]
     },
     "execution_count": 17,
     "metadata": {},
     "output_type": "execute_result"
    }
   ],
   "source": [
    "article = string[0]\n",
    "article"
   ]
  },
  {
   "cell_type": "code",
   "execution_count": 18,
   "metadata": {},
   "outputs": [
    {
     "data": {
      "text/plain": [
       "\"Sachin Tendulkar made his international debut on November 15, 1989, and played his last innings in international cricket on the same date 24 years later in 2013. Sachin debuted against Pakistan in Karachi, aged 16 years 205 days, becoming the youngest Indian to play a Test. In his last innings, Sachin slammed 74(118) against West Indies at Mumbai's Wankhede Stadium.\""
      ]
     },
     "execution_count": 18,
     "metadata": {},
     "output_type": "execute_result"
    }
   ],
   "source": [
    "article['content']"
   ]
  },
  {
   "cell_type": "code",
   "execution_count": 25,
   "metadata": {},
   "outputs": [],
   "source": [
    "def basic_clean(string):\n",
    "    string = string.lower()\n",
    "    string = unicodedata.normalize('NFKD', string\\\n",
    "    .encode('ascii', 'ignore')\\\n",
    "    .decode('utf-8', 'ignore'))\n",
    "    string = re.sub(r\"[^a-z0-9'\\s]\", '', string)\n",
    "    return string"
   ]
  },
  {
   "cell_type": "code",
   "execution_count": 28,
   "metadata": {},
   "outputs": [
    {
     "data": {
      "text/plain": [
       "\"sachin tendulkar made his international debut on november 15 1989 and played his last innings in international cricket on the same date 24 years later in 2013 sachin debuted against pakistan in karachi aged 16 years 205 days becoming the youngest indian to play a test in his last innings sachin slammed 74118 against west indies at mumbai's wankhede stadium\""
      ]
     },
     "execution_count": 28,
     "metadata": {},
     "output_type": "execute_result"
    }
   ],
   "source": [
    "article1 = basic_clean(article['content'])\n",
    "article1"
   ]
  },
  {
   "cell_type": "markdown",
   "metadata": {},
   "source": [
    "### Define a function named tokenize. It should take in a string and tokenize all the words in the string."
   ]
  },
  {
   "cell_type": "code",
   "execution_count": 31,
   "metadata": {},
   "outputs": [],
   "source": [
    "def tokenize(string):\n",
    "    tokenizer = nltk.tokenize.ToktokTokenizer()\n",
    "    return tokenizer.tokenize(string, return_str=True)\n"
   ]
  },
  {
   "cell_type": "code",
   "execution_count": 35,
   "metadata": {},
   "outputs": [
    {
     "data": {
      "text/plain": [
       "\"sachin tendulkar made his international debut on november 15 1989 and played his last innings in international cricket on the same date 24 years later in 2013 sachin debuted against pakistan in karachi aged 16 years 205 days becoming the youngest indian to play a test in his last innings sachin slammed 74118 against west indies at mumbai ' s wankhede stadium\""
      ]
     },
     "execution_count": 35,
     "metadata": {},
     "output_type": "execute_result"
    }
   ],
   "source": [
    "article1 = tokenize(article1)\n",
    "article1"
   ]
  },
  {
   "cell_type": "markdown",
   "metadata": {},
   "source": [
    "### Define a function named stem. It should accept some text and return the text after applying stemming to all the words.\n"
   ]
  },
  {
   "cell_type": "code",
   "execution_count": 33,
   "metadata": {},
   "outputs": [],
   "source": [
    "def stem(string):\n",
    "    ps = nltk.porter.PorterStemmer()\n",
    "    stems = [ps.stem(word) for word in string.split()]\n",
    "    return ' '.join(stems)"
   ]
  },
  {
   "cell_type": "code",
   "execution_count": 37,
   "metadata": {},
   "outputs": [
    {
     "data": {
      "text/plain": [
       "\"sachin tendulkar made hi intern debut on novemb 15 1989 and play hi last inning in intern cricket on the same date 24 year later in 2013 sachin debut against pakistan in karachi age 16 year 205 day becom the youngest indian to play a test in hi last inning sachin slam 74118 against west indi at mumbai ' s wankh stadium\""
      ]
     },
     "execution_count": 37,
     "metadata": {},
     "output_type": "execute_result"
    }
   ],
   "source": [
    "article1 = stem(article1)\n",
    "article1"
   ]
  },
  {
   "cell_type": "markdown",
   "metadata": {},
   "source": [
    "\n",
    "### Define a function named lemmatize. It should accept some text and return the text after applying lemmatization to each word.\n"
   ]
  },
  {
   "cell_type": "code",
   "execution_count": 43,
   "metadata": {},
   "outputs": [],
   "source": [
    "def lemmatize(string):\n",
    "    wnl = nltk.stem.WordNetLemmatizer()\n",
    "    lemmas = [wnl.lemmatize(word) for word in string.split()]\n",
    "    return ' '.join(lemmas)"
   ]
  },
  {
   "cell_type": "code",
   "execution_count": 45,
   "metadata": {},
   "outputs": [
    {
     "data": {
      "text/plain": [
       "\"sachin tendulkar made hi intern debut on novemb 15 1989 and play hi last inning in intern cricket on the same date 24 year later in 2013 sachin debut against pakistan in karachi age 16 year 205 day becom the youngest indian to play a test in hi last inning sachin slam 74118 against west indi at mumbai ' s wankh stadium\""
      ]
     },
     "execution_count": 45,
     "metadata": {},
     "output_type": "execute_result"
    }
   ],
   "source": [
    "article1 = lemmatize(article1)\n",
    "article1"
   ]
  },
  {
   "cell_type": "markdown",
   "metadata": {},
   "source": [
    "\n",
    "### Define a function named remove_stopwords. It should accept some text and return the text after removing all the stopwords.\n",
    "\n",
    "This function should define two optional parameters, extra_words and exclude_words. These parameters should define any additional stop words to include, and any words that we don't want to remove."
   ]
  },
  {
   "cell_type": "code",
   "execution_count": 51,
   "metadata": {},
   "outputs": [],
   "source": [
    "def remove_stopwords(string, extra_words = [],exclude_words = []):\n",
    "    stopword_list = stopwords.words('english')\n",
    "    if len(extra_words) >0:\n",
    "        stopword_list.append(extra_words)\n",
    "    if len(exclude_words)>0:\n",
    "        stopword_list.remove(exclude_words)\n",
    "    \n",
    "    words = string.split()\n",
    "    filtered_words = [word for word in words if word not in stopword_list]\n",
    "    \n",
    "    article_without_stopwords = ' '.join(filtered_words)\n",
    "    return article_without_stopwords"
   ]
  },
  {
   "cell_type": "code",
   "execution_count": 52,
   "metadata": {},
   "outputs": [
    {
     "data": {
      "text/plain": [
       "\"sachin tendulkar made hi intern debut novemb 15 1989 play hi last inning intern cricket date 24 year later 2013 sachin debut pakistan karachi age 16 year 205 day becom youngest indian play test hi last inning sachin slam 74118 west indi mumbai ' wankh stadium\""
      ]
     },
     "execution_count": 52,
     "metadata": {},
     "output_type": "execute_result"
    }
   ],
   "source": [
    "remove_stopwords(article1)"
   ]
  },
  {
   "cell_type": "markdown",
   "metadata": {},
   "source": [
    "### Define a function named prep_article that takes in the dictionary representing an article and returns a dictionary that looks like this:  \n",
    "{\n",
    "'title': 'the original title'.  \n",
    "'original': original,  \n",
    "'stemmed': article_stemmed,  \n",
    "'lemmatized': article_lemmatized,  \n",
    "'clean': article_without_stopwords  \n",
    "}  \n",
    "Note that if the orignal dictionary has a title property, it should remain unchanged (same goes for the category property)."
   ]
  },
  {
   "cell_type": "code",
   "execution_count": 48,
   "metadata": {},
   "outputs": [],
   "source": [
    "def prep_article(article):\n",
    "    dt = {}\n",
    "    \n",
    "    article1 = article['content']\n",
    "    article1 = basic_clean(article1)\n",
    "    article1 = tokenize(article1)\n",
    "    stemmed = stem(article1)\n",
    "    lemmatized = lemmatize(article1)\n",
    "    cleaned =  remove_stopwords(article1)  \n",
    "                           \n",
    "    dt.update({'category': article['topic']})\n",
    "    dt.update({'title': article['title']})\n",
    "    dt.update({'original': article['content']})\n",
    "    dt.update({'stemmed': stemmed})\n",
    "    dt.update({'lemmatized': lemmatized})\n",
    "    dt.update({'clean': cleaned})    \n",
    "    return dt"
   ]
  },
  {
   "cell_type": "code",
   "execution_count": 49,
   "metadata": {},
   "outputs": [
    {
     "data": {
      "text/plain": [
       "{'category': 'sports',\n",
       " 'title': \"Sachin's debut, last int'l innings were on same day 24 years apart\",\n",
       " 'original': \"Sachin Tendulkar made his international debut on November 15, 1989, and played his last innings in international cricket on the same date 24 years later in 2013. Sachin debuted against Pakistan in Karachi, aged 16 years 205 days, becoming the youngest Indian to play a Test. In his last innings, Sachin slammed 74(118) against West Indies at Mumbai's Wankhede Stadium.\",\n",
       " 'stemmed': \"sachin tendulkar made hi intern debut on novemb 15 1989 and play hi last inning in intern cricket on the same date 24 year later in 2013 sachin debut against pakistan in karachi age 16 year 205 day becom the youngest indian to play a test in hi last inning sachin slam 74118 against west indi at mumbai ' s wankhed stadium\",\n",
       " 'lemmatized': \"sachin tendulkar made his international debut on november 15 1989 and played his last inning in international cricket on the same date 24 year later in 2013 sachin debuted against pakistan in karachi aged 16 year 205 day becoming the youngest indian to play a test in his last inning sachin slammed 74118 against west indie at mumbai ' s wankhede stadium\",\n",
       " 'clean': \"sachin tendulkar made international debut november 15 1989 played last innings international cricket date 24 years later 2013 sachin debuted pakistan karachi aged 16 years 205 days becoming youngest indian play test last innings sachin slammed 74118 west indies mumbai ' wankhede stadium\"}"
      ]
     },
     "execution_count": 49,
     "metadata": {},
     "output_type": "execute_result"
    }
   ],
   "source": [
    "prep_article(article)"
   ]
  },
  {
   "cell_type": "code",
   "execution_count": 61,
   "metadata": {},
   "outputs": [
    {
     "data": {
      "text/plain": [
       "0     former india cricketer aakash chopra said csk ...\n",
       "1     reacting former england captain michael vaugha...\n",
       "2     arsenal forward pierreemerick aubameyang gabon...\n",
       "3     video england wicketkeeperbatsman jos buttler ...\n",
       "4     mumbai indian batsman suryakumar yadav liked m...\n",
       "                            ...                        \n",
       "94    speaking experience working aditya roy kapur l...\n",
       "95    embassy india france paid tribute actor soumit...\n",
       "96    actor aditya roy kapur start shooting upcoming...\n",
       "97    actor suriya sivakumar said belief indian film...\n",
       "98    actor sonu sood appointed state icon punjab el...\n",
       "Name: content, Length: 99, dtype: object"
      ]
     },
     "execution_count": 61,
     "metadata": {},
     "output_type": "execute_result"
    }
   ],
   "source": [
    "df['content'].apply(basic_clean)\\\n",
    "             .apply(tokenize)\\\n",
    "             .apply(remove_stopwords)\\\n",
    "             .apply(lemmatize)"
   ]
  },
  {
   "cell_type": "code",
   "execution_count": 63,
   "metadata": {},
   "outputs": [],
   "source": [
    "def prep_article_data(df, column, extra_words=[], exclude_words=[]):\n",
    "\n",
    "    df['clean'] = df[column].apply(basic_clean)\\\n",
    "                            .apply(tokenize)\\\n",
    "                            .apply(remove_stopwords, \n",
    "                                   extra_words=extra_words, \n",
    "                                   exclude_words=exclude_words)\\\n",
    "                            .apply(lemmatize)\n",
    "    \n",
    "    df['stemmed'] = df[column].apply(basic_clean).apply(stem)\n",
    "    \n",
    "    df['lemmatized'] = df[column].apply(basic_clean).apply(lemmatize)\n",
    "    \n",
    "    return df[['title', column, 'stemmed', 'lemmatized', 'clean']]"
   ]
  },
  {
   "cell_type": "code",
   "execution_count": 64,
   "metadata": {},
   "outputs": [
    {
     "data": {
      "text/html": [
       "<div>\n",
       "<style scoped>\n",
       "    .dataframe tbody tr th:only-of-type {\n",
       "        vertical-align: middle;\n",
       "    }\n",
       "\n",
       "    .dataframe tbody tr th {\n",
       "        vertical-align: top;\n",
       "    }\n",
       "\n",
       "    .dataframe thead th {\n",
       "        text-align: right;\n",
       "    }\n",
       "</style>\n",
       "<table border=\"1\" class=\"dataframe\">\n",
       "  <thead>\n",
       "    <tr style=\"text-align: right;\">\n",
       "      <th></th>\n",
       "      <th>title</th>\n",
       "      <th>content</th>\n",
       "      <th>stemmed</th>\n",
       "      <th>lemmatized</th>\n",
       "      <th>clean</th>\n",
       "    </tr>\n",
       "  </thead>\n",
       "  <tbody>\n",
       "    <tr>\n",
       "      <th>0</th>\n",
       "      <td>CSK should buy Dhoni with right to match card ...</td>\n",
       "      <td>Former India cricketer Aakash Chopra said CSK ...</td>\n",
       "      <td>former india cricket aakash chopra said csk sh...</td>\n",
       "      <td>former india cricketer aakash chopra said csk ...</td>\n",
       "      <td>former india cricketer aakash chopra said csk ...</td>\n",
       "    </tr>\n",
       "    <tr>\n",
       "      <th>1</th>\n",
       "      <td>That was the best comment I saw whole day: Aka...</td>\n",
       "      <td>Reacting to former England captain Michael Vau...</td>\n",
       "      <td>react to former england captain michael vaugha...</td>\n",
       "      <td>reacting to former england captain michael vau...</td>\n",
       "      <td>reacting former england captain michael vaugha...</td>\n",
       "    </tr>\n",
       "    <tr>\n",
       "      <th>2</th>\n",
       "      <td>Gabon football team forced to sleep on airport...</td>\n",
       "      <td>Arsenal forward Pierre-Emerick Aubameyang and ...</td>\n",
       "      <td>arsen forward pierreemerick aubameyang and hi ...</td>\n",
       "      <td>arsenal forward pierreemerick aubameyang and h...</td>\n",
       "      <td>arsenal forward pierreemerick aubameyang gabon...</td>\n",
       "    </tr>\n",
       "    <tr>\n",
       "      <th>3</th>\n",
       "      <td>Jos Buttler's 18-month-old daughter interrupts...</td>\n",
       "      <td>A video of England wicketkeeper-batsman Jos Bu...</td>\n",
       "      <td>a video of england wicketkeeperbatsman jo butt...</td>\n",
       "      <td>a video of england wicketkeeperbatsman jos but...</td>\n",
       "      <td>video england wicketkeeperbatsman jos buttler ...</td>\n",
       "    </tr>\n",
       "    <tr>\n",
       "      <th>4</th>\n",
       "      <td>Suryakumar Yadav likes a meme trolling Virat K...</td>\n",
       "      <td>Mumbai Indians batsman Suryakumar Yadav liked ...</td>\n",
       "      <td>mumbai indian batsman suryakumar yadav like a ...</td>\n",
       "      <td>mumbai indian batsman suryakumar yadav liked a...</td>\n",
       "      <td>mumbai indian batsman suryakumar yadav liked m...</td>\n",
       "    </tr>\n",
       "  </tbody>\n",
       "</table>\n",
       "</div>"
      ],
      "text/plain": [
       "                                               title  \\\n",
       "0  CSK should buy Dhoni with right to match card ...   \n",
       "1  That was the best comment I saw whole day: Aka...   \n",
       "2  Gabon football team forced to sleep on airport...   \n",
       "3  Jos Buttler's 18-month-old daughter interrupts...   \n",
       "4  Suryakumar Yadav likes a meme trolling Virat K...   \n",
       "\n",
       "                                             content  \\\n",
       "0  Former India cricketer Aakash Chopra said CSK ...   \n",
       "1  Reacting to former England captain Michael Vau...   \n",
       "2  Arsenal forward Pierre-Emerick Aubameyang and ...   \n",
       "3  A video of England wicketkeeper-batsman Jos Bu...   \n",
       "4  Mumbai Indians batsman Suryakumar Yadav liked ...   \n",
       "\n",
       "                                             stemmed  \\\n",
       "0  former india cricket aakash chopra said csk sh...   \n",
       "1  react to former england captain michael vaugha...   \n",
       "2  arsen forward pierreemerick aubameyang and hi ...   \n",
       "3  a video of england wicketkeeperbatsman jo butt...   \n",
       "4  mumbai indian batsman suryakumar yadav like a ...   \n",
       "\n",
       "                                          lemmatized  \\\n",
       "0  former india cricketer aakash chopra said csk ...   \n",
       "1  reacting to former england captain michael vau...   \n",
       "2  arsenal forward pierreemerick aubameyang and h...   \n",
       "3  a video of england wicketkeeperbatsman jos but...   \n",
       "4  mumbai indian batsman suryakumar yadav liked a...   \n",
       "\n",
       "                                               clean  \n",
       "0  former india cricketer aakash chopra said csk ...  \n",
       "1  reacting former england captain michael vaugha...  \n",
       "2  arsenal forward pierreemerick aubameyang gabon...  \n",
       "3  video england wicketkeeperbatsman jos buttler ...  \n",
       "4  mumbai indian batsman suryakumar yadav liked m...  "
      ]
     },
     "execution_count": 64,
     "metadata": {},
     "output_type": "execute_result"
    }
   ],
   "source": [
    "df = prep_article_data(df, 'content')\n",
    "df.head()"
   ]
  },
  {
   "cell_type": "code",
   "execution_count": null,
   "metadata": {},
   "outputs": [],
   "source": []
  }
 ],
 "metadata": {
  "kernelspec": {
   "display_name": "Python 3",
   "language": "python",
   "name": "python3"
  },
  "language_info": {
   "codemirror_mode": {
    "name": "ipython",
    "version": 3
   },
   "file_extension": ".py",
   "mimetype": "text/x-python",
   "name": "python",
   "nbconvert_exporter": "python",
   "pygments_lexer": "ipython3",
   "version": "3.7.6"
  }
 },
 "nbformat": 4,
 "nbformat_minor": 4
}
