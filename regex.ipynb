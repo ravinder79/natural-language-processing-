{
 "cells": [
  {
   "cell_type": "code",
   "execution_count": 2,
   "metadata": {},
   "outputs": [],
   "source": [
    "import pandas as pd\n",
    "import numpy as np\n",
    "import re"
   ]
  },
  {
   "cell_type": "markdown",
   "metadata": {},
   "source": [
    "#### Write a function named is_vowel. It should accept a string as input and use a regular expression to determine if the passed string is a vowel. While not explicity mentioned in the lesson, you can treat the result of re.search as a boolean value that indicates whether or not the regular expression matches the given string."
   ]
  },
  {
   "cell_type": "code",
   "execution_count": 655,
   "metadata": {},
   "outputs": [],
   "source": [
    "def is_vowel(s):\n",
    "    r_vowels = r'[aeiouAEIOU]'\n",
    "    return re.search(r_vowels, s) != None"
   ]
  },
  {
   "cell_type": "code",
   "execution_count": 656,
   "metadata": {},
   "outputs": [
    {
     "data": {
      "text/plain": [
       "False"
      ]
     },
     "execution_count": 656,
     "metadata": {},
     "output_type": "execute_result"
    }
   ],
   "source": [
    "is_vowel('c')"
   ]
  },
  {
   "cell_type": "markdown",
   "metadata": {},
   "source": [
    "#### Write a function named is_valid_username that accepts a string as input. A valid username starts with a lowercase letter, and only consists of lowercase letters, numbers, or the _ character. It should also be no longer than 32 characters. The function should return either True or False depending on whether the passed string is a valid username."
   ]
  },
  {
   "cell_type": "code",
   "execution_count": 82,
   "metadata": {},
   "outputs": [],
   "source": [
    "def is_valid_username(s):\n",
    "    \n",
    "    if len(s)> 32:\n",
    "        return False\n",
    "    \n",
    "    elif re.search(r'[A-Z]',s) != None:\n",
    "        return False\n",
    "    \n",
    "    elif re.search(r'^[a-z]\\w',s) != None:\n",
    "        return True\n",
    "    \n",
    "    else:\n",
    "        return False"
   ]
  },
  {
   "cell_type": "code",
   "execution_count": 83,
   "metadata": {},
   "outputs": [
    {
     "data": {
      "text/plain": [
       "True"
      ]
     },
     "execution_count": 83,
     "metadata": {},
     "output_type": "execute_result"
    }
   ],
   "source": [
    "is_valid_username('valid_usename12')"
   ]
  },
  {
   "cell_type": "markdown",
   "metadata": {},
   "source": [
    "#### Write a regular expression to capture phone numbers. It should match all of the following:\n",
    "(210) 867 5309\\\n",
    "+1 210.867.5309\\\n",
    "867-5309\\\n",
    "210-867-5309"
   ]
  },
  {
   "cell_type": "code",
   "execution_count": 597,
   "metadata": {},
   "outputs": [
    {
     "data": {
      "text/plain": [
       "['210.867.5309']"
      ]
     },
     "execution_count": 597,
     "metadata": {},
     "output_type": "execute_result"
    }
   ],
   "source": [
    "ph = '+1 210.867.5309'\n",
    "match = re.findall(r'\\d?\\d?\\d?\\D*?[\\s?.?-?]?\\d{3}[\\s.-]\\d{4}$', ph)\n",
    "match"
   ]
  },
  {
   "cell_type": "code",
   "execution_count": 614,
   "metadata": {},
   "outputs": [
    {
     "data": {
      "text/plain": [
       "['210-867-5309']"
      ]
     },
     "execution_count": 614,
     "metadata": {},
     "output_type": "execute_result"
    }
   ],
   "source": [
    "ph = '210-867-5309'\n",
    "match = re.findall(r'[\\(]?\\d?\\d?\\d?\\D*?[\\s?.?-?]?\\d{3}[\\s.-]\\d{4}$', ph)\n",
    "match"
   ]
  },
  {
   "cell_type": "code",
   "execution_count": 615,
   "metadata": {},
   "outputs": [
    {
     "data": {
      "text/plain": [
       "['867-5309']"
      ]
     },
     "execution_count": 615,
     "metadata": {},
     "output_type": "execute_result"
    }
   ],
   "source": [
    "ph = '867-5309'\n",
    "match = re.findall(r'[\\(]?\\d?\\d?\\d?\\D*?[\\s?.?-?]?\\d{3}[\\s.-]\\d{4}$', ph)\n",
    "match"
   ]
  },
  {
   "cell_type": "code",
   "execution_count": 616,
   "metadata": {},
   "outputs": [
    {
     "data": {
      "text/plain": [
       "['(210) 867 5309']"
      ]
     },
     "execution_count": 616,
     "metadata": {},
     "output_type": "execute_result"
    }
   ],
   "source": [
    "ph = '(210) 867 5309'\n",
    "match = re.findall(r'[\\(]?\\d?\\d?\\d?\\D*?[\\s?.?-?]?\\d{3}[\\s.-]\\d{4}$', ph)\n",
    "match"
   ]
  },
  {
   "cell_type": "markdown",
   "metadata": {},
   "source": [
    "#### Use regular expressions to convert the dates below to the standardized year-month-day format.\n",
    "\n",
    "\n",
    "02/04/19\\\n",
    "02/05/19\\\n",
    "02/06/19\\\n",
    "02/07/19\\\n",
    "02/08/19\\\n",
    "02/09/19\\\n",
    "02/10/19"
   ]
  },
  {
   "cell_type": "code",
   "execution_count": 560,
   "metadata": {},
   "outputs": [
    {
     "data": {
      "text/plain": [
       "'19/02/02'"
      ]
     },
     "execution_count": 560,
     "metadata": {},
     "output_type": "execute_result"
    }
   ],
   "source": [
    "date = '02/02/19'\n",
    "formatted_date = re.sub(r'(\\d{2})/(\\d{2})/(\\d{2})', r'\\3/\\1/\\2', date)\n",
    "formatted_date"
   ]
  },
  {
   "cell_type": "markdown",
   "metadata": {},
   "source": [
    "#### Write a regex to extract the various parts of these logfile lines:\n",
    "\n",
    "\n",
    "GET /api/v1/sales?page=86 [16/Apr/2019:193452+0000] HTTP/1.1 {200} 510348 \"python-requests/2.21.0\" 97.105.19.58\\\n",
    "POST /users_accounts/file-upload [16/Apr/2019:193452+0000] HTTP/1.1 {201} 42 \"User-Agent: Mozilla/5.0 (X11; Fedora; Fedora; Linux x86_64) AppleWebKit/537.36 (KHTML, like Gecko) Chrome/73.0.3683.86 Safari/537.36\" 97.105.19.58\\\n",
    "GET /api/v1/items?page=3 [16/Apr/2019:193453+0000] HTTP/1.1 {429} 3561 \"python-requests/2.21.0\" 97.105.19.58"
   ]
  },
  {
   "cell_type": "code",
   "execution_count": 571,
   "metadata": {},
   "outputs": [],
   "source": [
    "log_file_lines = '''GET /api/v1/sales?page=86 [16/Apr/2019:193452+0000] HTTP/1.1 {200} 510348 \"python-requests/2.21.0\" 97.105.19.58\n",
    "POST /users_accounts/file-upload [16/Apr/2019:193452+0000] HTTP/1.1 {201} 42 \"User-Agent: Mozilla/5.0 (X11; Fedora; Fedora; Linux x86_64) AppleWebKit/537.36 (KHTML, like Gecko) Chrome/73.0.3683.86 Safari/537.36\" 97.105.19.58\n",
    "GET /api/v1/items?page=3 [16/Apr/2019:193453+0000] HTTP/1.1 {429} 3561 \"python-requests/2.21.0\" 97.105.19.58'''"
   ]
  },
  {
   "cell_type": "code",
   "execution_count": 572,
   "metadata": {},
   "outputs": [],
   "source": [
    "lines = pd.Series(log_file_lines.strip().split('\\n'))"
   ]
  },
  {
   "cell_type": "code",
   "execution_count": 577,
   "metadata": {},
   "outputs": [
    {
     "data": {
      "text/plain": [
       "0    GET /api/v1/sales?page=86 [16/Apr/2019:193452+...\n",
       "1    POST /users_accounts/file-upload [16/Apr/2019:...\n",
       "2    GET /api/v1/items?page=3 [16/Apr/2019:193453+0...\n",
       "dtype: object"
      ]
     },
     "execution_count": 577,
     "metadata": {},
     "output_type": "execute_result"
    }
   ],
   "source": [
    "lines"
   ]
  },
  {
   "cell_type": "code",
   "execution_count": 579,
   "metadata": {},
   "outputs": [
    {
     "data": {
      "text/html": [
       "<div>\n",
       "<style scoped>\n",
       "    .dataframe tbody tr th:only-of-type {\n",
       "        vertical-align: middle;\n",
       "    }\n",
       "\n",
       "    .dataframe tbody tr th {\n",
       "        vertical-align: top;\n",
       "    }\n",
       "\n",
       "    .dataframe thead th {\n",
       "        text-align: right;\n",
       "    }\n",
       "</style>\n",
       "<table border=\"1\" class=\"dataframe\">\n",
       "  <thead>\n",
       "    <tr style=\"text-align: right;\">\n",
       "      <th></th>\n",
       "      <th>Request_info</th>\n",
       "      <th>destination</th>\n",
       "      <th>date_time</th>\n",
       "      <th>HTTP</th>\n",
       "      <th>status_code</th>\n",
       "      <th>something</th>\n",
       "      <th>user_agent</th>\n",
       "      <th>ip</th>\n",
       "    </tr>\n",
       "  </thead>\n",
       "  <tbody>\n",
       "    <tr>\n",
       "      <th>0</th>\n",
       "      <td>GET</td>\n",
       "      <td>/api/v1/sales?page=86</td>\n",
       "      <td>16/Apr/2019:193452+0000</td>\n",
       "      <td>HTTP/1.1</td>\n",
       "      <td>200</td>\n",
       "      <td>510348</td>\n",
       "      <td>python-requests/2.21.0</td>\n",
       "      <td>97.105.19.58</td>\n",
       "    </tr>\n",
       "    <tr>\n",
       "      <th>1</th>\n",
       "      <td>POST</td>\n",
       "      <td>/users_accounts/file-upload</td>\n",
       "      <td>16/Apr/2019:193452+0000</td>\n",
       "      <td>HTTP/1.1</td>\n",
       "      <td>201</td>\n",
       "      <td>42</td>\n",
       "      <td>User-Agent: Mozilla/5.0 (X11; Fedora; Fedora; ...</td>\n",
       "      <td>97.105.19.58</td>\n",
       "    </tr>\n",
       "    <tr>\n",
       "      <th>2</th>\n",
       "      <td>GET</td>\n",
       "      <td>/api/v1/items?page=3</td>\n",
       "      <td>16/Apr/2019:193453+0000</td>\n",
       "      <td>HTTP/1.1</td>\n",
       "      <td>429</td>\n",
       "      <td>3561</td>\n",
       "      <td>python-requests/2.21.0</td>\n",
       "      <td>97.105.19.58</td>\n",
       "    </tr>\n",
       "  </tbody>\n",
       "</table>\n",
       "</div>"
      ],
      "text/plain": [
       "  Request_info                  destination                date_time  \\\n",
       "0          GET        /api/v1/sales?page=86  16/Apr/2019:193452+0000   \n",
       "1         POST  /users_accounts/file-upload  16/Apr/2019:193452+0000   \n",
       "2          GET         /api/v1/items?page=3  16/Apr/2019:193453+0000   \n",
       "\n",
       "       HTTP status_code something  \\\n",
       "0  HTTP/1.1         200    510348   \n",
       "1  HTTP/1.1         201        42   \n",
       "2  HTTP/1.1         429      3561   \n",
       "\n",
       "                                          user_agent            ip  \n",
       "0                             python-requests/2.21.0  97.105.19.58  \n",
       "1  User-Agent: Mozilla/5.0 (X11; Fedora; Fedora; ...  97.105.19.58  \n",
       "2                             python-requests/2.21.0  97.105.19.58  "
      ]
     },
     "execution_count": 579,
     "metadata": {},
     "output_type": "execute_result"
    }
   ],
   "source": [
    "regexp = r'''\n",
    "^\n",
    "(?P<Request_info>.+)\n",
    "\\s\n",
    "(?P<destination>.+)\n",
    "\\s\n",
    "\\[\n",
    "(?P<date_time>.+?)\n",
    "\\]\n",
    "\\s\n",
    "(?P<HTTP>.+)\n",
    "\\s\n",
    "\\{\n",
    "(?P<status_code>.+)\n",
    "\\}\n",
    "\\s\n",
    "(?P<something>.+?)\n",
    "\\s\n",
    "\"\n",
    "(?P<user_agent>.+)\n",
    "\"\n",
    "\\s\n",
    "(?P<ip>\\d\\d{1,3}\\.\\d{1,3}\\.\\d{1,3}\\.\\d{1,3})\n",
    "$\n",
    "'''\n",
    "pd.Series(lines).str.extract(regexp, re.VERBOSE)"
   ]
  },
  {
   "cell_type": "markdown",
   "metadata": {},
   "source": [
    "#### You can find a list of words on your mac at /usr/share/dict/words. Use this file to answer the following questions:\n",
    "\n",
    "How many words have at least 3 vowels?\\\n",
    "How many words have at least 3 vowels in a row?\\\n",
    "How many words have at least 4 consonants in a row?\\\n",
    "How many words start and end with the same letter?\\\n",
    "How many words start and end with a vowel?\\\n",
    "How many words contain the same letter 3 times in a row?\\\n",
    "What other interesting patterns in words can you find?"
   ]
  },
  {
   "cell_type": "code",
   "execution_count": 617,
   "metadata": {},
   "outputs": [],
   "source": [
    "with open('/usr/share/dict/words') as f:\n",
    "    words = f.read().split()"
   ]
  },
  {
   "cell_type": "code",
   "execution_count": 649,
   "metadata": {},
   "outputs": [],
   "source": [
    "words = pd.Series(words)"
   ]
  },
  {
   "cell_type": "code",
   "execution_count": 710,
   "metadata": {},
   "outputs": [],
   "source": [
    "#function using python\n",
    "\n",
    "def count_vowels(words):\n",
    "    list = []\n",
    "    for word in words:\n",
    "        count = 0\n",
    "        for i in word:\n",
    "            if is_vowel(i) == True:\n",
    "                count = count+1\n",
    "        if count >= 3:\n",
    "            list.append(word)\n",
    "    return list\n",
    "            "
   ]
  },
  {
   "cell_type": "code",
   "execution_count": 712,
   "metadata": {},
   "outputs": [],
   "source": [
    "def count_vowels_reg(words):\n",
    "    list = []\n",
    "    for word in words:\n",
    "        count = 0\n",
    "        for i in word:\n",
    "            if re.search(r'[aeiouAEIOU]', i) != None:\n",
    "                count = count+1\n",
    "        if count >= 3:\n",
    "            list.append(word)\n",
    "    return list"
   ]
  },
  {
   "cell_type": "code",
   "execution_count": 714,
   "metadata": {},
   "outputs": [
    {
     "data": {
      "text/plain": [
       "191365"
      ]
     },
     "execution_count": 714,
     "metadata": {},
     "output_type": "execute_result"
    }
   ],
   "source": [
    "#How many words have at least 3 vowels (using regex)\n",
    "len(count_vowels_reg(words))"
   ]
  },
  {
   "cell_type": "code",
   "execution_count": 715,
   "metadata": {},
   "outputs": [
    {
     "data": {
      "text/plain": [
       "191365"
      ]
     },
     "execution_count": 715,
     "metadata": {},
     "output_type": "execute_result"
    }
   ],
   "source": [
    "#How many words have at least 3 vowels? (using base python)\n",
    "len(count_vowels(words))"
   ]
  },
  {
   "cell_type": "code",
   "execution_count": 678,
   "metadata": {},
   "outputs": [],
   "source": [
    "#How many words have at least 3 vowels in a row?"
   ]
  },
  {
   "cell_type": "code",
   "execution_count": 688,
   "metadata": {},
   "outputs": [],
   "source": [
    "def vowels_3row(words):\n",
    "    list = []\n",
    "    for word in words:\n",
    "        count = 0\n",
    "        for i in range(0,len(word[0:-2])):\n",
    "            if (is_vowel(word[i]) == True) and (is_vowel(word[i+1]) == True) and (is_vowel(word[i+2]) == True):\n",
    "                count = count+1\n",
    "        if count >0:\n",
    "            list.append(word)\n",
    "    return list"
   ]
  },
  {
   "cell_type": "code",
   "execution_count": 717,
   "metadata": {},
   "outputs": [],
   "source": [
    "def vowels_3row_reg(words):\n",
    "    list = []\n",
    "    for word in words:\n",
    "        if re.search(r'[aeiouAEIOU]{3}', word) != None:\n",
    "            list.append(word)\n",
    "    return list"
   ]
  },
  {
   "cell_type": "code",
   "execution_count": 691,
   "metadata": {},
   "outputs": [
    {
     "data": {
      "text/plain": [
       "6182"
      ]
     },
     "execution_count": 691,
     "metadata": {},
     "output_type": "execute_result"
    }
   ],
   "source": [
    "# using base python\n",
    "len(vowels_3row(words))"
   ]
  },
  {
   "cell_type": "code",
   "execution_count": 719,
   "metadata": {},
   "outputs": [
    {
     "data": {
      "text/plain": [
       "6182"
      ]
     },
     "execution_count": 719,
     "metadata": {},
     "output_type": "execute_result"
    }
   ],
   "source": [
    "# using regex\n",
    "len(vowels_3row_reg(words))"
   ]
  },
  {
   "cell_type": "code",
   "execution_count": 722,
   "metadata": {},
   "outputs": [],
   "source": [
    "#How many words have at least 4 consonants in a row?\n",
    "\n",
    "def consonants_4row(words):\n",
    "    list = []\n",
    "    for word in words:\n",
    "        count = 0\n",
    "        for i in range(0,len(word[0:-3])):\n",
    "            if (is_vowel(word[i]) == False) and (is_vowel(word[i+1]) == False) and (is_vowel(word[i+2]) == False)and (is_vowel(word[i+3]) == False):\n",
    "                count = count+1\n",
    "        if count >0:\n",
    "            list.append(word)\n",
    "    return list"
   ]
  },
  {
   "cell_type": "code",
   "execution_count": 721,
   "metadata": {},
   "outputs": [],
   "source": [
    "def consonants_4row_reg(words):\n",
    "    list = []\n",
    "    for word in words:\n",
    "        if re.search(r'[^aeiouAEIOU]{4,}', word) != None:\n",
    "            list.append(word)\n",
    "    return list\n"
   ]
  },
  {
   "cell_type": "code",
   "execution_count": 723,
   "metadata": {},
   "outputs": [
    {
     "data": {
      "text/plain": [
       "19241"
      ]
     },
     "execution_count": 723,
     "metadata": {},
     "output_type": "execute_result"
    }
   ],
   "source": [
    "# Using base python\n",
    "len(consonants_4row(words))"
   ]
  },
  {
   "cell_type": "code",
   "execution_count": 726,
   "metadata": {},
   "outputs": [
    {
     "data": {
      "text/plain": [
       "19241"
      ]
     },
     "execution_count": 726,
     "metadata": {},
     "output_type": "execute_result"
    }
   ],
   "source": [
    "# Using regex\n",
    "len(consonants_4row_reg(words))"
   ]
  },
  {
   "cell_type": "code",
   "execution_count": 729,
   "metadata": {},
   "outputs": [],
   "source": [
    "#How many words start and end with the same letter?\n",
    "def start_end_same(words):\n",
    "    list = []\n",
    "    for word in words:\n",
    "        count = 0\n",
    "        if word[0] == word[-1]:\n",
    "            list.append(word)\n",
    "    return list"
   ]
  },
  {
   "cell_type": "code",
   "execution_count": 761,
   "metadata": {},
   "outputs": [],
   "source": [
    "def start_end_same_reg(words):\n",
    "    list = []\n",
    "    for word in words:\n",
    "        if (re.findall(r'^\\w', word)) == (re.findall(r'\\w$', word)):\n",
    "            list.append(word)\n",
    "    return list"
   ]
  },
  {
   "cell_type": "code",
   "execution_count": 762,
   "metadata": {},
   "outputs": [
    {
     "data": {
      "text/plain": [
       "9969"
      ]
     },
     "execution_count": 762,
     "metadata": {},
     "output_type": "execute_result"
    }
   ],
   "source": [
    "#using base python\n",
    "len(start_end_same(words))"
   ]
  },
  {
   "cell_type": "code",
   "execution_count": 763,
   "metadata": {},
   "outputs": [
    {
     "data": {
      "text/plain": [
       "9969"
      ]
     },
     "execution_count": 763,
     "metadata": {},
     "output_type": "execute_result"
    }
   ],
   "source": [
    "# using regexp\n",
    "len(start_end_same_reg(words))"
   ]
  },
  {
   "cell_type": "code",
   "execution_count": 795,
   "metadata": {},
   "outputs": [],
   "source": [
    "# How many words start and end with a vowel?\n",
    "\n",
    "def start_end_vowel(words):\n",
    "    list = []\n",
    "    for word in words:\n",
    "        if (is_vowel(word[0]) == True) and (is_vowel(word[-1]) == True):\n",
    "            list.append(word)\n",
    "    return list\n",
    "\n"
   ]
  },
  {
   "cell_type": "code",
   "execution_count": 796,
   "metadata": {},
   "outputs": [],
   "source": [
    "def start_end_vowel_reg(words):\n",
    "    list = []\n",
    "    for word in words:\n",
    "        if ((re.search(r'[aeiouAEIOU]', word[0]) != None) and (re.search(r'[aeiouAEIOU]', word[-1]) != None)):\n",
    "            list.append(word)\n",
    "    return list\n",
    "\n"
   ]
  },
  {
   "cell_type": "code",
   "execution_count": 798,
   "metadata": {},
   "outputs": [
    {
     "data": {
      "text/plain": [
       "14667"
      ]
     },
     "execution_count": 798,
     "metadata": {},
     "output_type": "execute_result"
    }
   ],
   "source": [
    "# using base python\n",
    "len(start_end_vowel(words))"
   ]
  },
  {
   "cell_type": "code",
   "execution_count": 799,
   "metadata": {},
   "outputs": [
    {
     "data": {
      "text/plain": [
       "14667"
      ]
     },
     "execution_count": 799,
     "metadata": {},
     "output_type": "execute_result"
    }
   ],
   "source": [
    "# using regex\n",
    "len(start_end_vowel_reg(words))"
   ]
  },
  {
   "cell_type": "code",
   "execution_count": 814,
   "metadata": {},
   "outputs": [],
   "source": [
    "#How many words contain the same letter 3 times in a row?\n",
    "#What other interesting patterns in words can you find?\n",
    "\n",
    "def same_3letter(word):\n",
    "    list = []\n",
    "    for word in words:\n",
    "        if re.search(r'(\\w)\\1{2,}', word) != None:\n",
    "            list.append(word)\n",
    "    return list            "
   ]
  },
  {
   "cell_type": "code",
   "execution_count": 815,
   "metadata": {},
   "outputs": [
    {
     "data": {
      "text/plain": [
       "['bossship',\n",
       " 'demigoddessship',\n",
       " 'goddessship',\n",
       " 'headmistressship',\n",
       " 'patronessship',\n",
       " 'wallless',\n",
       " 'whenceeer']"
      ]
     },
     "execution_count": 815,
     "metadata": {},
     "output_type": "execute_result"
    }
   ],
   "source": [
    "same_3letter(word)"
   ]
  },
  {
   "cell_type": "code",
   "execution_count": null,
   "metadata": {},
   "outputs": [],
   "source": []
  }
 ],
 "metadata": {
  "kernelspec": {
   "display_name": "Python 3",
   "language": "python",
   "name": "python3"
  },
  "language_info": {
   "codemirror_mode": {
    "name": "ipython",
    "version": 3
   },
   "file_extension": ".py",
   "mimetype": "text/x-python",
   "name": "python",
   "nbconvert_exporter": "python",
   "pygments_lexer": "ipython3",
   "version": "3.7.4"
  }
 },
 "nbformat": 4,
 "nbformat_minor": 2
}
